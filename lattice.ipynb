{
 "cells": [
  {
   "cell_type": "markdown",
   "id": "610ab736",
   "metadata": {},
   "source": [
    "# Material ID : mp-924128"
   ]
  },
  {
   "cell_type": "code",
   "execution_count": null,
   "id": "5209441a",
   "metadata": {},
   "outputs": [],
   "source": []
  },
  {
   "cell_type": "code",
   "execution_count": 1,
   "id": "e7a9f356",
   "metadata": {},
   "outputs": [],
   "source": [
    "import json\n",
    "\n",
    "\n",
    "# An optional utility to display a progress bar\n",
    "# for long-running loops. `pip install tqdm`.\n",
    "from tqdm import tqdm\n",
    "#import atomate2.common.schemas.symmetry as acss\n",
    "from pymatgen.ext.matproj import MPRester\n",
    "\n",
    "mpr = MPRester(api_key=\"XLgeaWrG6lipMAIH\")"
   ]
  },
  {
   "cell_type": "code",
   "execution_count": 2,
   "id": "ae78d870",
   "metadata": {},
   "outputs": [],
   "source": [
    "data = []\n",
    "\n",
    "entrie = mpr.query(\"mp-924128\", [\"material_id\", \"cif\"])\n",
    "data.extend(entrie)"
   ]
  },
  {
   "cell_type": "markdown",
   "id": "59943287",
   "metadata": {},
   "source": [
    "# Télécharger le fichier .cif"
   ]
  },
  {
   "cell_type": "code",
   "execution_count": 3,
   "id": "a5a1d09b",
   "metadata": {},
   "outputs": [
    {
     "name": "stderr",
     "output_type": "stream",
     "text": [
      "100%|██████████| 1/1 [00:00<00:00, 179.80it/s]\n"
     ]
    }
   ],
   "source": [
    "import os\n",
    "\n",
    "if not os.path.exists('lmapr1492_cifs'):\n",
    "    os.mkdir('lmapr1492_cifs')\n",
    "\n",
    "for d in tqdm(data):\n",
    "    with open(\"lmapr1492_cifs/{}.cif\".format(d[\"material_id\"]), 'w') as f:\n",
    "        f.write(d[\"cif\"])"
   ]
  },
  {
   "cell_type": "markdown",
   "id": "e43dc571",
   "metadata": {},
   "source": [
    "# Déterminer les vecteurs de bases des ses réseaux direct et réciproque"
   ]
  },
  {
   "cell_type": "code",
   "execution_count": 4,
   "id": "92a0c8e6",
   "metadata": {},
   "outputs": [
    {
     "name": "stdout",
     "output_type": "stream",
     "text": [
      "Full Formula (Hf1 Ni1 Sn1)\n",
      "Reduced Formula: HfNiSn\n",
      "abc   :   4.323626   4.323626   4.323626\n",
      "angles:  60.000000  60.000000  60.000000\n",
      "Sites (3)\n",
      "  #  SP       a     b     c    magmom\n",
      "---  ----  ----  ----  ----  --------\n",
      "  0  Hf    0     0     0            0\n",
      "  1  Ni    0.25  0.25  0.25        -0\n",
      "  2  Sn    0.5   0.5   0.5          0\n"
     ]
    }
   ],
   "source": [
    "lattice = mpr.get_structure_by_material_id(\"mp-924128\")\n",
    "print(lattice)"
   ]
  },
  {
   "cell_type": "markdown",
   "id": "bdcac692",
   "metadata": {},
   "source": [
    "# Déterminer son type de maille"
   ]
  },
  {
   "cell_type": "code",
   "execution_count": 5,
   "id": "446aa4c2",
   "metadata": {},
   "outputs": [
    {
     "name": "stdout",
     "output_type": "stream",
     "text": [
      "HfNiSn \t \t cell_type : F\n"
     ]
    }
   ],
   "source": [
    "molecule = mpr.query(\"mp-924128\", properties=[\"pretty_formula\", \"spacegroup.hall\"])\n",
    "cell_type = molecule[0][\"spacegroup.hall\"][0]\n",
    "print(molecule[0][\"pretty_formula\"], \"\\t \\t cell type :\", cell_type)"
   ]
  },
  {
   "cell_type": "markdown",
   "id": "20ea5a94",
   "metadata": {},
   "source": [
    "# Déterminer son système cristallin"
   ]
  },
  {
   "cell_type": "code",
   "execution_count": 7,
   "id": "57a10f6b",
   "metadata": {},
   "outputs": [
    {
     "name": "stdout",
     "output_type": "stream",
     "text": [
      "HfNiSn \t \t crystal_system : cubic\n"
     ]
    }
   ],
   "source": [
    "crystal_system = mpr.query(\"mp-924128\", properties=[\"pretty_formula\", \"spacegroup.crystal_system\"])\n",
    "print(crystal_system[0][\"pretty_formula\"], \"\\t \\t crystal system :\", crystal_system[0][\"spacegroup.crystal_system\"])"
   ]
  },
  {
   "cell_type": "markdown",
   "id": "41a97e3b",
   "metadata": {},
   "source": [
    "# Déterminer son groupe ponctuel"
   ]
  },
  {
   "cell_type": "code",
   "execution_count": 9,
   "id": "0dccb71b",
   "metadata": {},
   "outputs": [
    {
     "name": "stdout",
     "output_type": "stream",
     "text": [
      "HfNiSn \t \t point_group : -43m\n"
     ]
    }
   ],
   "source": [
    "point_group = mpr.query(\"mp-924128\", properties=[\"pretty_formula\", \"spacegroup.point_group\"])\n",
    "print(point_group[0][\"pretty_formula\"], \"\\t \\t point group :\", point_group[0][\"spacegroup.point_group\"])"
   ]
  },
  {
   "cell_type": "code",
   "execution_count": null,
   "id": "b235780b",
   "metadata": {},
   "outputs": [],
   "source": []
  }
 ],
 "metadata": {
  "kernelspec": {
   "display_name": "Python 3",
   "language": "python",
   "name": "python3"
  },
  "language_info": {
   "codemirror_mode": {
    "name": "ipython",
    "version": 3
   },
   "file_extension": ".py",
   "mimetype": "text/x-python",
   "name": "python",
   "nbconvert_exporter": "python",
   "pygments_lexer": "ipython3",
   "version": "3.6.8"
  }
 },
 "nbformat": 4,
 "nbformat_minor": 5
}

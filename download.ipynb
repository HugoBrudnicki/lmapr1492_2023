{
 "cells": [
  {
   "cell_type": "code",
   "execution_count": null,
   "id": "0763b305",
   "metadata": {},
   "outputs": [],
   "source": []
  },
  {
   "cell_type": "code",
   "execution_count": 14,
   "id": "de4ac722",
   "metadata": {},
   "outputs": [],
   "source": [
    "import json\n",
    "\n",
    "\n",
    "# An optional utility to display a progress bar\n",
    "# for long-running loops. `pip install tqdm`.\n",
    "from tqdm import tqdm\n",
    "\n",
    "from pymatgen.ext.matproj import MPRester"
   ]
  },
  {
   "cell_type": "code",
   "execution_count": 18,
   "id": "93eb753e",
   "metadata": {},
   "outputs": [
    {
     "name": "stdout",
     "output_type": "stream",
     "text": [
      "[{'material_id': 'mp-924128', 'cif': \"# generated using pymatgen\\ndata_HfNiSn\\n_symmetry_space_group_name_H-M   'P 1'\\n_cell_length_a   4.32362563\\n_cell_length_b   4.32362563\\n_cell_length_c   4.32362563\\n_cell_angle_alpha   60.00000000\\n_cell_angle_beta   60.00000000\\n_cell_angle_gamma   60.00000000\\n_symmetry_Int_Tables_number   1\\n_chemical_formula_structural   HfNiSn\\n_chemical_formula_sum   'Hf1 Ni1 Sn1'\\n_cell_volume   57.15171262\\n_cell_formula_units_Z   1\\nloop_\\n _symmetry_equiv_pos_site_id\\n _symmetry_equiv_pos_as_xyz\\n  1  'x, y, z'\\nloop_\\n _atom_site_type_symbol\\n _atom_site_label\\n _atom_site_symmetry_multiplicity\\n _atom_site_fract_x\\n _atom_site_fract_y\\n _atom_site_fract_z\\n _atom_site_occupancy\\n  Hf  Hf0  1  0.00000000  0.00000000  0.00000000  1\\n  Ni  Ni1  1  0.25000000  0.25000000  0.25000000  1\\n  Sn  Sn2  1  0.50000000  0.50000000  0.50000000  1\\n\"}]\n"
     ]
    }
   ],
   "source": [
    "\"\"\"With the GitHub account on the legacy version\"\"\"\n",
    "\n",
    "data = []\n",
    "with MPRester(api_key=\"XLgeaWrG6lipMAIH\") as mpr:\n",
    "    entrie = mpr.query(\"mp-924128\", [\"material_id\", \"cif\"])\n",
    "    data.extend(entrie)\n",
    "\n",
    "#print(data)"
   ]
  },
  {
   "cell_type": "code",
   "execution_count": 19,
   "id": "70a8a2b5",
   "metadata": {},
   "outputs": [
    {
     "name": "stderr",
     "output_type": "stream",
     "text": [
      "100%|██████████| 1/1 [00:00<00:00, 167.07it/s]\n"
     ]
    }
   ],
   "source": [
    "import os\n",
    "\n",
    "if not os.path.exists('lmapr1492_cifs'):\n",
    "    os.mkdir('lmapr1492_cifs')\n",
    "\n",
    "for d in tqdm(data):\n",
    "    with open(\"lmapr1492_cifs/{}.cif\".format(d[\"material_id\"]), 'w') as f:\n",
    "        f.write(d[\"cif\"])"
   ]
  },
  {
   "cell_type": "code",
   "execution_count": null,
   "id": "5883ede8",
   "metadata": {},
   "outputs": [],
   "source": []
  }
 ],
 "metadata": {
  "kernelspec": {
   "display_name": "Python 3",
   "language": "python",
   "name": "python3"
  },
  "language_info": {
   "codemirror_mode": {
    "name": "ipython",
    "version": 3
   },
   "file_extension": ".py",
   "mimetype": "text/x-python",
   "name": "python",
   "nbconvert_exporter": "python",
   "pygments_lexer": "ipython3",
   "version": "3.6.8"
  }
 },
 "nbformat": 4,
 "nbformat_minor": 5
}

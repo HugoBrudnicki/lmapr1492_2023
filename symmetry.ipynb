{
 "cells": [
  {
   "cell_type": "code",
   "execution_count": 5,
   "id": "d0c37e87",
   "metadata": {},
   "outputs": [],
   "source": [
    "import json\n",
    "from jupyter_jsmol import JsmolView\n",
    "from ipywidgets import Layout, widgets, interact\n",
    "from IPython.display import display\n",
    "import os\n",
    "\n",
    "# An optional utility to display a progress bar\n",
    "# for long-running loops. `pip install tqdm`.\n",
    "from tqdm import tqdm\n",
    "#import atomate2.common.schemas.symmetry as acss\n",
    "from pymatgen.ext.matproj import MPRester\n",
    "\n",
    "mpr = MPRester(api_key=\"XLgeaWrG6lipMAIH\")\n",
    "\n",
    "data = []\n",
    "\n",
    "entrie = mpr.query(\"mp-924128\", [\"material_id\", \"cif\"])\n",
    "data.extend(entrie)"
   ]
  },
  {
   "cell_type": "markdown",
   "id": "6fca1e53",
   "metadata": {},
   "source": [
    "# Télécharger le fichier .cif"
   ]
  },
  {
   "cell_type": "code",
   "execution_count": 6,
   "id": "51064cc0",
   "metadata": {},
   "outputs": [
    {
     "name": "stderr",
     "output_type": "stream",
     "text": [
      "100%|██████████| 1/1 [00:00<00:00, 210.99it/s]\n"
     ]
    }
   ],
   "source": [
    "if not os.path.exists('lmapr1492_cifs'):\n",
    "    os.mkdir('lmapr1492_cifs')\n",
    "\n",
    "for d in tqdm(data):\n",
    "    with open(\"lmapr1492_cifs/{}.cif\".format(d[\"material_id\"]), 'w') as f:\n",
    "        f.write(d[\"cif\"])"
   ]
  },
  {
   "cell_type": "markdown",
   "id": "c0e7bc68",
   "metadata": {},
   "source": [
    "# Étude de la symmétrie"
   ]
  },
  {
   "cell_type": "code",
   "execution_count": 7,
   "id": "fe42dabd",
   "metadata": {},
   "outputs": [
    {
     "name": "stdout",
     "output_type": "stream",
     "text": [
      "HfNiSn \t \t cell type : F-43m\n"
     ]
    }
   ],
   "source": [
    "molecule = mpr.query(\"mp-924128\", properties=[\"pretty_formula\", \"spacegroup.symbol\", ])\n",
    "cell_type = molecule[0][\"spacegroup.symbol\"]\n",
    "print(molecule[0][\"pretty_formula\"], \"\\t \\t cell type :\", cell_type)"
   ]
  },
  {
   "cell_type": "raw",
   "id": "c3b7f001",
   "metadata": {},
   "source": [
    " F : Symmétrie spatiale   = Face centrée\n",
    "-4 : Symmétrie ponctuelle = roto-inversion ordre 4 (le long des directions [100], [010] et [001])\n",
    " 3 : Symmétrie ponctuelle = rotation ordre 3       (le long des directions [111], [1-1-1], [-1-11] et [-11-1])\n",
    " m : Symmétrie poncutelle = réflexion              (le long des directions [110], [101], [011], [1-10], [10-1], [01-1])"
   ]
  },
  {
   "cell_type": "code",
   "execution_count": 14,
   "id": "f607b3b9",
   "metadata": {},
   "outputs": [
    {
     "data": {
      "application/vnd.jupyter.widget-view+json": {
       "model_id": "b210d90344c140a49f7187c7c87d5588",
       "version_major": 2,
       "version_minor": 0
      },
      "text/plain": [
       "JsmolView(layout=Layout(align_self='stretch', height='400px'))"
      ]
     },
     "metadata": {},
     "output_type": "display_data"
    }
   ],
   "source": [
    "view1 = JsmolView(layout=Layout(height=\"600px\"))\n",
    "#display(view1)\n",
    "\n",
    "view1.from_file('lmapr1492_cifs/mp-924128.cif', inline=True)\n"
   ]
  },
  {
   "cell_type": "code",
   "execution_count": 12,
   "id": "84146854",
   "metadata": {},
   "outputs": [],
   "source": [
    "view1.script('draw SYMOP 121')"
   ]
  },
  {
   "cell_type": "code",
   "execution_count": null,
   "id": "c17a6dd6",
   "metadata": {},
   "outputs": [],
   "source": []
  }
 ],
 "metadata": {
  "kernelspec": {
   "display_name": "Python 3",
   "language": "python",
   "name": "python3"
  },
  "language_info": {
   "codemirror_mode": {
    "name": "ipython",
    "version": 3
   },
   "file_extension": ".py",
   "mimetype": "text/x-python",
   "name": "python",
   "nbconvert_exporter": "python",
   "pygments_lexer": "ipython3",
   "version": "3.6.8"
  }
 },
 "nbformat": 4,
 "nbformat_minor": 5
}
